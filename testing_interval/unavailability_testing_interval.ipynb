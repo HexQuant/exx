{
 "cells": [
  {
   "cell_type": "markdown",
   "id": "1d3e7637",
   "metadata": {},
   "source": [
    "## The dependence of the average unavailability due to testing interval of pumps"
   ]
  },
  {
   "cell_type": "code",
   "execution_count": 1,
   "id": "2d45592c",
   "metadata": {
    "ExecuteTime": {
     "end_time": "2021-06-28T13:47:05.926524Z",
     "start_time": "2021-06-28T13:47:04.837382Z"
    }
   },
   "outputs": [],
   "source": [
    "# Загрузка нужных библиотек\n",
    "import numpy as np\n",
    "from scipy.stats import gamma, beta, lognorm, norm, loguniform\n",
    "from scipy.optimize import minimize_scalar\n",
    "import matplotlib.pyplot as plt\n",
    "import seaborn as sns"
   ]
  },
  {
   "cell_type": "markdown",
   "id": "edab7293",
   "metadata": {},
   "source": [
    "The mean unavailability of periodically tested component with constant unavailability parameter $q_0$:\n",
    "$$Q_{mean}=1-\\frac{1}{\\lambda \\cdot TI}(1-q_0)(1-e^{-\\lambda \\cdot TI})+(1-(1-q_0)e^{-\\lambda \\cdot TI})\\frac{T_r}{TI}$$"
   ]
  },
  {
   "cell_type": "code",
   "execution_count": 2,
   "id": "8085524d",
   "metadata": {
    "ExecuteTime": {
     "end_time": "2021-06-28T13:47:05.932922Z",
     "start_time": "2021-06-28T13:47:05.928835Z"
    }
   },
   "outputs": [],
   "source": [
    "def Q(q0, FR, TI, Tr=0):\n",
    "    return 1-1/(FR*TI) * (1-q0) * (1-np.exp(-FR*TI)) + (1-(1-q0)*np.exp(-FR*TI)) * Tr/TI"
   ]
  },
  {
   "cell_type": "code",
   "execution_count": 3,
   "id": "d2a2be92",
   "metadata": {
    "ExecuteTime": {
     "end_time": "2021-06-28T13:47:05.941352Z",
     "start_time": "2021-06-28T13:47:05.935075Z"
    }
   },
   "outputs": [],
   "source": [
    "# T-book v6\n",
    "q_fr_pumps = [\n",
    "    [6.7e-4, 10.4e-7],\n",
    "    [8.3e-3, 8.9e-7],\n",
    "    [11.4e-4, 8.0e-6],\n",
    "    [5.7e-3, 7.4e-7],\n",
    "    [5.0e-3, 14.0e-6],\n",
    "    [4.8e-3, 4.9e-6],\n",
    "    [7.3e-3, 27.5e-7],\n",
    "    [2.8e-5, 3.3e-6],\n",
    "    [16.7e-4, 64.0e-7], #Table 1.9.2\n",
    "    [7.6e-4, 21.6e-7]]  #Table 1.10.2\n"
   ]
  },
  {
   "cell_type": "markdown",
   "id": "6889c801",
   "metadata": {},
   "source": [
    "The dependence of the average unavailability due to testing interval of pump (95% confidence interval):"
   ]
  },
  {
   "cell_type": "code",
   "execution_count": 7,
   "id": "da8e3296",
   "metadata": {
    "ExecuteTime": {
     "end_time": "2021-06-28T13:49:38.504242Z",
     "start_time": "2021-06-28T13:49:36.504059Z"
    },
    "scrolled": false
   },
   "outputs": [
    {
     "name": "stdout",
     "output_type": "stream",
     "text": [
      "q0=0.00067 (lognorm, EF=10), FR=1.04e-06\n"
     ]
    },
    {
     "ename": "NameError",
     "evalue": "name 'p05' is not defined",
     "output_type": "error",
     "traceback": [
      "\u001b[0;31m---------------------------------------------------------------------------\u001b[0m",
      "\u001b[0;31mNameError\u001b[0m                                 Traceback (most recent call last)",
      "\u001b[0;32m<ipython-input-7-26fc80c9c102>\u001b[0m in \u001b[0;36m<module>\u001b[0;34m\u001b[0m\n\u001b[1;32m     36\u001b[0m     \u001b[0mg\u001b[0m\u001b[0;34m.\u001b[0m\u001b[0max_joint\u001b[0m\u001b[0;34m.\u001b[0m\u001b[0mtext\u001b[0m\u001b[0;34m(\u001b[0m\u001b[0mm\u001b[0m\u001b[0;34m*\u001b[0m\u001b[0;36m1.02\u001b[0m\u001b[0;34m,\u001b[0m \u001b[0;36m0\u001b[0m\u001b[0;34m,\u001b[0m \u001b[0;34mf'mean={m:.0f}'\u001b[0m\u001b[0;34m)\u001b[0m\u001b[0;34m\u001b[0m\u001b[0;34m\u001b[0m\u001b[0m\n\u001b[1;32m     37\u001b[0m \u001b[0;34m\u001b[0m\u001b[0m\n\u001b[0;32m---> 38\u001b[0;31m     \u001b[0mtti\u001b[0m \u001b[0;34m=\u001b[0m \u001b[0mnp\u001b[0m\u001b[0;34m.\u001b[0m\u001b[0mlinspace\u001b[0m\u001b[0;34m(\u001b[0m\u001b[0mp05\u001b[0m\u001b[0;34m,\u001b[0m \u001b[0mp95\u001b[0m\u001b[0;34m)\u001b[0m\u001b[0;34m\u001b[0m\u001b[0;34m\u001b[0m\u001b[0m\n\u001b[0m\u001b[1;32m     39\u001b[0m     \u001b[0my\u001b[0m \u001b[0;34m=\u001b[0m \u001b[0mQ\u001b[0m\u001b[0;34m(\u001b[0m\u001b[0mq_mean\u001b[0m\u001b[0;34m,\u001b[0m \u001b[0mfr_mean\u001b[0m\u001b[0;34m,\u001b[0m \u001b[0mtti\u001b[0m\u001b[0;34m,\u001b[0m \u001b[0mtr\u001b[0m\u001b[0;34m)\u001b[0m\u001b[0;34m\u001b[0m\u001b[0;34m\u001b[0m\u001b[0m\n\u001b[1;32m     40\u001b[0m     \u001b[0msns\u001b[0m\u001b[0;34m.\u001b[0m\u001b[0mlineplot\u001b[0m\u001b[0;34m(\u001b[0m\u001b[0mtti\u001b[0m\u001b[0;34m,\u001b[0m \u001b[0my\u001b[0m\u001b[0;34m,\u001b[0m \u001b[0max\u001b[0m \u001b[0;34m=\u001b[0m \u001b[0mg\u001b[0m\u001b[0;34m.\u001b[0m\u001b[0max_joint\u001b[0m\u001b[0;34m,\u001b[0m \u001b[0mls\u001b[0m\u001b[0;34m=\u001b[0m \u001b[0;34m':'\u001b[0m\u001b[0;34m,\u001b[0m \u001b[0mcolor\u001b[0m\u001b[0;34m=\u001b[0m\u001b[0;34m'green'\u001b[0m\u001b[0;34m)\u001b[0m\u001b[0;34m\u001b[0m\u001b[0;34m\u001b[0m\u001b[0m\n",
      "\u001b[0;31mNameError\u001b[0m: name 'p05' is not defined"
     ]
    }
   ],
   "source": [
    "ti_bounds = [24, 8000]\n",
    "tr= 24*2\n",
    "EF = 10\n",
    "N = 2000\n",
    "\n",
    "for q_mean, fr_mean in q_fr_pumps:\n",
    "    print(f'q0={q_mean} (lognorm, EF=10), FR={fr_mean}')\n",
    "    q_rand = lognorm(s=np.log(EF)/1.64485, scale= q_mean)\n",
    "    ti_opt = []\n",
    "    y_opt = []\n",
    "    opt = []\n",
    "    for q in q_rand.rvs(N):\n",
    "\n",
    "\n",
    "        func = lambda ti: Q(q, fr_mean, ti, tr)\n",
    "\n",
    "        res = minimize_scalar(func, bounds=ti_bounds, method='bounded')\n",
    "        opt.append([res.x, res.fun, q])\n",
    "\n",
    "\n",
    "    opt = np.array(opt)\n",
    "    m =opt[:,0].mean()\n",
    "    med =np.median(opt[:,0])\n",
    "    \n",
    "    # confidence interval in %\n",
    "    ci = 95\n",
    "    p5, p95 = np.percentile(opt[:,0], [(100-ci)/2, 100-(100-ci)/2])\n",
    "    opt = opt[(opt[:,0]>p5) & (opt[:,0]<p95)]\n",
    "\n",
    "    g = sns.jointplot(x=opt[:,0], y=opt[:,1], ratio=2, marginal_ticks=True)\n",
    "    g.ax_joint.grid(linestyle=':')\n",
    "    g.set_axis_labels('Test interval, [hour]', 'Unavailability')\n",
    "    #plt.suptitle('')\n",
    "    g.ax_joint.axvline(m, ls= ':', color='grey')\n",
    "    g.ax_joint.axvline(med, ls= ':', color='green')\n",
    "    g.ax_joint.text(m*1.02, 0, f'mean={m:.0f}')\n",
    "\n",
    "    tti = np.linspace(p05, p95)\n",
    "    y = Q(q_mean, fr_mean, tti, tr)\n",
    "    ax = sns.lineplot(tti, y, ax = g.ax_joint, ls= ':', color='green')\n",
    "    ax = \n",
    "    #g.ax_joint.set_yscale('log')\n",
    "    plt.show()   \n",
    "            "
   ]
  },
  {
   "cell_type": "code",
   "execution_count": null,
   "id": "d4cdedc8",
   "metadata": {},
   "outputs": [],
   "source": []
  }
 ],
 "metadata": {
  "hide_input": false,
  "kernelspec": {
   "display_name": "Python 3",
   "language": "python",
   "name": "python3"
  },
  "language_info": {
   "codemirror_mode": {
    "name": "ipython",
    "version": 3
   },
   "file_extension": ".py",
   "mimetype": "text/x-python",
   "name": "python",
   "nbconvert_exporter": "python",
   "pygments_lexer": "ipython3",
   "version": "3.7.10"
  },
  "toc": {
   "base_numbering": 1,
   "nav_menu": {},
   "number_sections": true,
   "sideBar": true,
   "skip_h1_title": false,
   "title_cell": "Table of Contents",
   "title_sidebar": "Contents",
   "toc_cell": false,
   "toc_position": {},
   "toc_section_display": true,
   "toc_window_display": false
  }
 },
 "nbformat": 4,
 "nbformat_minor": 5
}
